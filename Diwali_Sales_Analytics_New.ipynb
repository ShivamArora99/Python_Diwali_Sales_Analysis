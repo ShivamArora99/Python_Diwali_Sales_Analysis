{
 "cells": [
  {
   "cell_type": "markdown",
   "metadata": {},
   "source": [
    "**DIWALI SALES ANALYSIS**"
   ]
  },
  {
   "cell_type": "markdown",
   "metadata": {},
   "source": [
    "![Alt text](image.png)"
   ]
  },
  {
   "cell_type": "markdown",
   "metadata": {},
   "source": [
    "Importing all required libraries"
   ]
  },
  {
   "cell_type": "code",
   "execution_count": 376,
   "metadata": {},
   "outputs": [],
   "source": [
    "import pandas as pd\n",
    "import numpy as np\n",
    "import matplotlib.pyplot as plt\n",
    "import seaborn as sns"
   ]
  },
  {
   "cell_type": "code",
   "execution_count": 377,
   "metadata": {},
   "outputs": [],
   "source": [
    "diwali_df = pd.read_csv('Diwali Sales Data.csv', encoding= 'unicode_escape')"
   ]
  },
  {
   "cell_type": "code",
   "execution_count": 378,
   "metadata": {},
   "outputs": [
    {
     "name": "stdout",
     "output_type": "stream",
     "text": [
      "(11251, 15)\n"
     ]
    },
    {
     "data": {
      "text/html": [
       "<div>\n",
       "<style scoped>\n",
       "    .dataframe tbody tr th:only-of-type {\n",
       "        vertical-align: middle;\n",
       "    }\n",
       "\n",
       "    .dataframe tbody tr th {\n",
       "        vertical-align: top;\n",
       "    }\n",
       "\n",
       "    .dataframe thead th {\n",
       "        text-align: right;\n",
       "    }\n",
       "</style>\n",
       "<table border=\"1\" class=\"dataframe\">\n",
       "  <thead>\n",
       "    <tr style=\"text-align: right;\">\n",
       "      <th></th>\n",
       "      <th>User_ID</th>\n",
       "      <th>Cust_name</th>\n",
       "      <th>Product_ID</th>\n",
       "      <th>Gender</th>\n",
       "      <th>Age Group</th>\n",
       "      <th>Age</th>\n",
       "      <th>Marital_Status</th>\n",
       "      <th>State</th>\n",
       "      <th>Zone</th>\n",
       "      <th>Occupation</th>\n",
       "      <th>Product_Category</th>\n",
       "      <th>Orders</th>\n",
       "      <th>Amount</th>\n",
       "      <th>Status</th>\n",
       "      <th>unnamed1</th>\n",
       "    </tr>\n",
       "  </thead>\n",
       "  <tbody>\n",
       "    <tr>\n",
       "      <th>0</th>\n",
       "      <td>1002903</td>\n",
       "      <td>Sanskriti</td>\n",
       "      <td>P00125942</td>\n",
       "      <td>F</td>\n",
       "      <td>26-35</td>\n",
       "      <td>28</td>\n",
       "      <td>0</td>\n",
       "      <td>Maharashtra</td>\n",
       "      <td>Western</td>\n",
       "      <td>Healthcare</td>\n",
       "      <td>Auto</td>\n",
       "      <td>1</td>\n",
       "      <td>23952.00</td>\n",
       "      <td>NaN</td>\n",
       "      <td>NaN</td>\n",
       "    </tr>\n",
       "    <tr>\n",
       "      <th>1</th>\n",
       "      <td>1000732</td>\n",
       "      <td>Kartik</td>\n",
       "      <td>P00110942</td>\n",
       "      <td>F</td>\n",
       "      <td>26-35</td>\n",
       "      <td>35</td>\n",
       "      <td>1</td>\n",
       "      <td>Andhra Pradesh</td>\n",
       "      <td>Southern</td>\n",
       "      <td>Govt</td>\n",
       "      <td>Auto</td>\n",
       "      <td>3</td>\n",
       "      <td>23934.00</td>\n",
       "      <td>NaN</td>\n",
       "      <td>NaN</td>\n",
       "    </tr>\n",
       "    <tr>\n",
       "      <th>2</th>\n",
       "      <td>1001990</td>\n",
       "      <td>Bindu</td>\n",
       "      <td>P00118542</td>\n",
       "      <td>F</td>\n",
       "      <td>26-35</td>\n",
       "      <td>35</td>\n",
       "      <td>1</td>\n",
       "      <td>Uttar Pradesh</td>\n",
       "      <td>Central</td>\n",
       "      <td>Automobile</td>\n",
       "      <td>Auto</td>\n",
       "      <td>3</td>\n",
       "      <td>23924.00</td>\n",
       "      <td>NaN</td>\n",
       "      <td>NaN</td>\n",
       "    </tr>\n",
       "    <tr>\n",
       "      <th>3</th>\n",
       "      <td>1001425</td>\n",
       "      <td>Sudevi</td>\n",
       "      <td>P00237842</td>\n",
       "      <td>M</td>\n",
       "      <td>0-17</td>\n",
       "      <td>16</td>\n",
       "      <td>0</td>\n",
       "      <td>Karnataka</td>\n",
       "      <td>Southern</td>\n",
       "      <td>Construction</td>\n",
       "      <td>Auto</td>\n",
       "      <td>2</td>\n",
       "      <td>23912.00</td>\n",
       "      <td>NaN</td>\n",
       "      <td>NaN</td>\n",
       "    </tr>\n",
       "    <tr>\n",
       "      <th>4</th>\n",
       "      <td>1000588</td>\n",
       "      <td>Joni</td>\n",
       "      <td>P00057942</td>\n",
       "      <td>M</td>\n",
       "      <td>26-35</td>\n",
       "      <td>28</td>\n",
       "      <td>1</td>\n",
       "      <td>Gujarat</td>\n",
       "      <td>Western</td>\n",
       "      <td>Food Processing</td>\n",
       "      <td>Auto</td>\n",
       "      <td>2</td>\n",
       "      <td>23877.00</td>\n",
       "      <td>NaN</td>\n",
       "      <td>NaN</td>\n",
       "    </tr>\n",
       "    <tr>\n",
       "      <th>5</th>\n",
       "      <td>1000588</td>\n",
       "      <td>Joni</td>\n",
       "      <td>P00057942</td>\n",
       "      <td>M</td>\n",
       "      <td>26-35</td>\n",
       "      <td>28</td>\n",
       "      <td>1</td>\n",
       "      <td>Himachal Pradesh</td>\n",
       "      <td>Northern</td>\n",
       "      <td>Food Processing</td>\n",
       "      <td>Auto</td>\n",
       "      <td>1</td>\n",
       "      <td>23877.00</td>\n",
       "      <td>NaN</td>\n",
       "      <td>NaN</td>\n",
       "    </tr>\n",
       "    <tr>\n",
       "      <th>6</th>\n",
       "      <td>1001132</td>\n",
       "      <td>Balk</td>\n",
       "      <td>P00018042</td>\n",
       "      <td>F</td>\n",
       "      <td>18-25</td>\n",
       "      <td>25</td>\n",
       "      <td>1</td>\n",
       "      <td>Uttar Pradesh</td>\n",
       "      <td>Central</td>\n",
       "      <td>Lawyer</td>\n",
       "      <td>Auto</td>\n",
       "      <td>4</td>\n",
       "      <td>23841.00</td>\n",
       "      <td>NaN</td>\n",
       "      <td>NaN</td>\n",
       "    </tr>\n",
       "    <tr>\n",
       "      <th>7</th>\n",
       "      <td>1002092</td>\n",
       "      <td>Shivangi</td>\n",
       "      <td>P00273442</td>\n",
       "      <td>F</td>\n",
       "      <td>55+</td>\n",
       "      <td>61</td>\n",
       "      <td>0</td>\n",
       "      <td>Maharashtra</td>\n",
       "      <td>Western</td>\n",
       "      <td>IT Sector</td>\n",
       "      <td>Auto</td>\n",
       "      <td>1</td>\n",
       "      <td>NaN</td>\n",
       "      <td>NaN</td>\n",
       "      <td>NaN</td>\n",
       "    </tr>\n",
       "    <tr>\n",
       "      <th>8</th>\n",
       "      <td>1003224</td>\n",
       "      <td>Kushal</td>\n",
       "      <td>P00205642</td>\n",
       "      <td>M</td>\n",
       "      <td>26-35</td>\n",
       "      <td>35</td>\n",
       "      <td>0</td>\n",
       "      <td>Uttar Pradesh</td>\n",
       "      <td>Central</td>\n",
       "      <td>Govt</td>\n",
       "      <td>Auto</td>\n",
       "      <td>2</td>\n",
       "      <td>23809.00</td>\n",
       "      <td>NaN</td>\n",
       "      <td>NaN</td>\n",
       "    </tr>\n",
       "    <tr>\n",
       "      <th>9</th>\n",
       "      <td>1003650</td>\n",
       "      <td>Ginny</td>\n",
       "      <td>P00031142</td>\n",
       "      <td>F</td>\n",
       "      <td>26-35</td>\n",
       "      <td>26</td>\n",
       "      <td>1</td>\n",
       "      <td>Andhra Pradesh</td>\n",
       "      <td>Southern</td>\n",
       "      <td>Media</td>\n",
       "      <td>Auto</td>\n",
       "      <td>4</td>\n",
       "      <td>23799.99</td>\n",
       "      <td>NaN</td>\n",
       "      <td>NaN</td>\n",
       "    </tr>\n",
       "  </tbody>\n",
       "</table>\n",
       "</div>"
      ],
      "text/plain": [
       "   User_ID  Cust_name Product_ID Gender Age Group  Age  Marital_Status  \\\n",
       "0  1002903  Sanskriti  P00125942      F     26-35   28               0   \n",
       "1  1000732     Kartik  P00110942      F     26-35   35               1   \n",
       "2  1001990      Bindu  P00118542      F     26-35   35               1   \n",
       "3  1001425     Sudevi  P00237842      M      0-17   16               0   \n",
       "4  1000588       Joni  P00057942      M     26-35   28               1   \n",
       "5  1000588       Joni  P00057942      M     26-35   28               1   \n",
       "6  1001132       Balk  P00018042      F     18-25   25               1   \n",
       "7  1002092   Shivangi  P00273442      F       55+   61               0   \n",
       "8  1003224     Kushal  P00205642      M     26-35   35               0   \n",
       "9  1003650      Ginny  P00031142      F     26-35   26               1   \n",
       "\n",
       "              State      Zone       Occupation Product_Category  Orders  \\\n",
       "0       Maharashtra   Western       Healthcare             Auto       1   \n",
       "1    Andhra Pradesh  Southern             Govt             Auto       3   \n",
       "2     Uttar Pradesh   Central       Automobile             Auto       3   \n",
       "3         Karnataka  Southern     Construction             Auto       2   \n",
       "4           Gujarat   Western  Food Processing             Auto       2   \n",
       "5  Himachal Pradesh  Northern  Food Processing             Auto       1   \n",
       "6     Uttar Pradesh   Central           Lawyer             Auto       4   \n",
       "7       Maharashtra   Western        IT Sector             Auto       1   \n",
       "8     Uttar Pradesh   Central             Govt             Auto       2   \n",
       "9    Andhra Pradesh  Southern            Media             Auto       4   \n",
       "\n",
       "     Amount  Status  unnamed1  \n",
       "0  23952.00     NaN       NaN  \n",
       "1  23934.00     NaN       NaN  \n",
       "2  23924.00     NaN       NaN  \n",
       "3  23912.00     NaN       NaN  \n",
       "4  23877.00     NaN       NaN  \n",
       "5  23877.00     NaN       NaN  \n",
       "6  23841.00     NaN       NaN  \n",
       "7       NaN     NaN       NaN  \n",
       "8  23809.00     NaN       NaN  \n",
       "9  23799.99     NaN       NaN  "
      ]
     },
     "execution_count": 378,
     "metadata": {},
     "output_type": "execute_result"
    }
   ],
   "source": [
    "print(diwali_df.shape)\n",
    "diwali_df.head(10)"
   ]
  },
  {
   "cell_type": "markdown",
   "metadata": {},
   "source": [
    "As we can see we have 11251 rows and 15 columns in this given dataset"
   ]
  },
  {
   "cell_type": "markdown",
   "metadata": {},
   "source": [
    "**DATA CLEANING**"
   ]
  },
  {
   "cell_type": "code",
   "execution_count": 379,
   "metadata": {},
   "outputs": [
    {
     "name": "stdout",
     "output_type": "stream",
     "text": [
      "<class 'pandas.core.frame.DataFrame'>\n",
      "RangeIndex: 11251 entries, 0 to 11250\n",
      "Data columns (total 15 columns):\n",
      " #   Column            Non-Null Count  Dtype  \n",
      "---  ------            --------------  -----  \n",
      " 0   User_ID           11251 non-null  int64  \n",
      " 1   Cust_name         11251 non-null  object \n",
      " 2   Product_ID        11251 non-null  object \n",
      " 3   Gender            11251 non-null  object \n",
      " 4   Age Group         11251 non-null  object \n",
      " 5   Age               11251 non-null  int64  \n",
      " 6   Marital_Status    11251 non-null  int64  \n",
      " 7   State             11251 non-null  object \n",
      " 8   Zone              11251 non-null  object \n",
      " 9   Occupation        11251 non-null  object \n",
      " 10  Product_Category  11251 non-null  object \n",
      " 11  Orders            11251 non-null  int64  \n",
      " 12  Amount            11239 non-null  float64\n",
      " 13  Status            0 non-null      float64\n",
      " 14  unnamed1          0 non-null      float64\n",
      "dtypes: float64(3), int64(4), object(8)\n",
      "memory usage: 1.3+ MB\n"
     ]
    }
   ],
   "source": [
    "diwali_df.info()"
   ]
  },
  {
   "cell_type": "code",
   "execution_count": 380,
   "metadata": {},
   "outputs": [],
   "source": [
    "diwali_df.drop(['Status','unnamed1'],axis =1 , inplace= True)"
   ]
  },
  {
   "cell_type": "code",
   "execution_count": 381,
   "metadata": {},
   "outputs": [
    {
     "data": {
      "text/plain": [
       "User_ID              0\n",
       "Cust_name            0\n",
       "Product_ID           0\n",
       "Gender               0\n",
       "Age Group            0\n",
       "Age                  0\n",
       "Marital_Status       0\n",
       "State                0\n",
       "Zone                 0\n",
       "Occupation           0\n",
       "Product_Category     0\n",
       "Orders               0\n",
       "Amount              12\n",
       "dtype: int64"
      ]
     },
     "execution_count": 381,
     "metadata": {},
     "output_type": "execute_result"
    }
   ],
   "source": [
    "diwali_df.isna().sum()"
   ]
  },
  {
   "cell_type": "code",
   "execution_count": 382,
   "metadata": {},
   "outputs": [
    {
     "data": {
      "text/plain": [
       "User_ID             0\n",
       "Cust_name           0\n",
       "Product_ID          0\n",
       "Gender              0\n",
       "Age Group           0\n",
       "Age                 0\n",
       "Marital_Status      0\n",
       "State               0\n",
       "Zone                0\n",
       "Occupation          0\n",
       "Product_Category    0\n",
       "Orders              0\n",
       "Amount              0\n",
       "dtype: int64"
      ]
     },
     "execution_count": 382,
     "metadata": {},
     "output_type": "execute_result"
    }
   ],
   "source": [
    "diwali_df.dropna(inplace= True)\n",
    "diwali_df.isna().sum()"
   ]
  },
  {
   "cell_type": "code",
   "execution_count": 383,
   "metadata": {},
   "outputs": [
    {
     "data": {
      "text/plain": [
       "dtype('int32')"
      ]
     },
     "execution_count": 383,
     "metadata": {},
     "output_type": "execute_result"
    }
   ],
   "source": [
    "diwali_df['Amount'] = diwali_df['Amount'].astype('int')\n",
    "diwali_df['Amount'].dtype"
   ]
  },
  {
   "cell_type": "code",
   "execution_count": 384,
   "metadata": {},
   "outputs": [
    {
     "data": {
      "text/plain": [
       "Index(['User_ID', 'Cust_name', 'Product_ID', 'Gender', 'Age Group', 'Age',\n",
       "       'Marital_Status', 'State', 'Zone', 'Occupation', 'Product_Category',\n",
       "       'Orders', 'Amount'],\n",
       "      dtype='object')"
      ]
     },
     "execution_count": 384,
     "metadata": {},
     "output_type": "execute_result"
    }
   ],
   "source": [
    "diwali_df.columns"
   ]
  },
  {
   "cell_type": "code",
   "execution_count": 385,
   "metadata": {},
   "outputs": [
    {
     "data": {
      "text/plain": [
       "Index(['User_ID', 'Cust_name', 'Product_ID', 'Gender', 'Age Group', 'Age',\n",
       "       'Married', 'State', 'Zone', 'Occupation', 'Product_Category', 'Orders',\n",
       "       'Amount'],\n",
       "      dtype='object')"
      ]
     },
     "execution_count": 385,
     "metadata": {},
     "output_type": "execute_result"
    }
   ],
   "source": [
    "diwali_df.rename(columns={'Marital_Status':'Married'} , inplace= True)\n",
    "diwali_df.columns"
   ]
  },
  {
   "cell_type": "code",
   "execution_count": 386,
   "metadata": {},
   "outputs": [
    {
     "data": {
      "text/html": [
       "<div>\n",
       "<style scoped>\n",
       "    .dataframe tbody tr th:only-of-type {\n",
       "        vertical-align: middle;\n",
       "    }\n",
       "\n",
       "    .dataframe tbody tr th {\n",
       "        vertical-align: top;\n",
       "    }\n",
       "\n",
       "    .dataframe thead th {\n",
       "        text-align: right;\n",
       "    }\n",
       "</style>\n",
       "<table border=\"1\" class=\"dataframe\">\n",
       "  <thead>\n",
       "    <tr style=\"text-align: right;\">\n",
       "      <th></th>\n",
       "      <th>User_ID</th>\n",
       "      <th>Age</th>\n",
       "      <th>Married</th>\n",
       "      <th>Orders</th>\n",
       "      <th>Amount</th>\n",
       "    </tr>\n",
       "  </thead>\n",
       "  <tbody>\n",
       "    <tr>\n",
       "      <th>count</th>\n",
       "      <td>1.123900e+04</td>\n",
       "      <td>11239.000000</td>\n",
       "      <td>11239.000000</td>\n",
       "      <td>11239.000000</td>\n",
       "      <td>11239.000000</td>\n",
       "    </tr>\n",
       "    <tr>\n",
       "      <th>mean</th>\n",
       "      <td>1.003004e+06</td>\n",
       "      <td>35.410357</td>\n",
       "      <td>0.420055</td>\n",
       "      <td>2.489634</td>\n",
       "      <td>9453.610553</td>\n",
       "    </tr>\n",
       "    <tr>\n",
       "      <th>std</th>\n",
       "      <td>1.716039e+03</td>\n",
       "      <td>12.753866</td>\n",
       "      <td>0.493589</td>\n",
       "      <td>1.114967</td>\n",
       "      <td>5222.355168</td>\n",
       "    </tr>\n",
       "    <tr>\n",
       "      <th>min</th>\n",
       "      <td>1.000001e+06</td>\n",
       "      <td>12.000000</td>\n",
       "      <td>0.000000</td>\n",
       "      <td>1.000000</td>\n",
       "      <td>188.000000</td>\n",
       "    </tr>\n",
       "    <tr>\n",
       "      <th>25%</th>\n",
       "      <td>1.001492e+06</td>\n",
       "      <td>27.000000</td>\n",
       "      <td>0.000000</td>\n",
       "      <td>2.000000</td>\n",
       "      <td>5443.000000</td>\n",
       "    </tr>\n",
       "    <tr>\n",
       "      <th>50%</th>\n",
       "      <td>1.003064e+06</td>\n",
       "      <td>33.000000</td>\n",
       "      <td>0.000000</td>\n",
       "      <td>2.000000</td>\n",
       "      <td>8109.000000</td>\n",
       "    </tr>\n",
       "    <tr>\n",
       "      <th>75%</th>\n",
       "      <td>1.004426e+06</td>\n",
       "      <td>43.000000</td>\n",
       "      <td>1.000000</td>\n",
       "      <td>3.000000</td>\n",
       "      <td>12675.000000</td>\n",
       "    </tr>\n",
       "    <tr>\n",
       "      <th>max</th>\n",
       "      <td>1.006040e+06</td>\n",
       "      <td>92.000000</td>\n",
       "      <td>1.000000</td>\n",
       "      <td>4.000000</td>\n",
       "      <td>23952.000000</td>\n",
       "    </tr>\n",
       "  </tbody>\n",
       "</table>\n",
       "</div>"
      ],
      "text/plain": [
       "            User_ID           Age       Married        Orders        Amount\n",
       "count  1.123900e+04  11239.000000  11239.000000  11239.000000  11239.000000\n",
       "mean   1.003004e+06     35.410357      0.420055      2.489634   9453.610553\n",
       "std    1.716039e+03     12.753866      0.493589      1.114967   5222.355168\n",
       "min    1.000001e+06     12.000000      0.000000      1.000000    188.000000\n",
       "25%    1.001492e+06     27.000000      0.000000      2.000000   5443.000000\n",
       "50%    1.003064e+06     33.000000      0.000000      2.000000   8109.000000\n",
       "75%    1.004426e+06     43.000000      1.000000      3.000000  12675.000000\n",
       "max    1.006040e+06     92.000000      1.000000      4.000000  23952.000000"
      ]
     },
     "execution_count": 386,
     "metadata": {},
     "output_type": "execute_result"
    }
   ],
   "source": [
    "diwali_df.describe()"
   ]
  },
  {
   "cell_type": "markdown",
   "metadata": {},
   "source": [
    "**Exploratory Data Analysis**"
   ]
  },
  {
   "cell_type": "markdown",
   "metadata": {},
   "source": [
    "Let's write some business questions\n",
    "1.  Which gender buys the most products\n",
    "2.  Which gender spent the most amount of money\n",
    "3.  Which age group / age has the most number of orders\n",
    "4.  Which category is famous in different age groups\n",
    "5.  Do married people tend to purchase more products compared to unmarried in diwali season\n",
    "6.  Which state had the best sales?\n",
    "7.  Does occupation play a role in money spent during diwali shopping ?\n",
    "8.  which category is popular for married people Vs unmarried people ?\n",
    "9. Top category in each state\n"
   ]
  },
  {
   "cell_type": "code",
   "execution_count": 387,
   "metadata": {},
   "outputs": [
    {
     "name": "stdout",
     "output_type": "stream",
     "text": [
      "Total Males:  3407\n",
      "Total Females:  7832\n",
      "Males % :  0.30314084882996706\n",
      "Female % : 0.6968591511700329\n"
     ]
    }
   ],
   "source": [
    "# Answer 1\n",
    "Males = diwali_df.loc[diwali_df['Gender'] == 'M','Gender'].count()\n",
    "Females = diwali_df.loc[diwali_df['Gender'] == 'F','Gender'].count()\n",
    "print(\"Total Males: \" ,Males )\n",
    "print(\"Total Females: \" ,Females )\n",
    "print(\"Males % : \",Males/(Males + Females))\n",
    "print(\"Female % :\",Females/(Males + Females))"
   ]
  },
  {
   "cell_type": "markdown",
   "metadata": {},
   "source": [
    "\n",
    "We can see that females in general prefer to shop more than males during diwali season."
   ]
  },
  {
   "cell_type": "code",
   "execution_count": 388,
   "metadata": {},
   "outputs": [
    {
     "name": "stdout",
     "output_type": "stream",
     "text": [
      "Gender\n",
      "F    74335853\n",
      "M    31913276\n",
      "Name: Amount, dtype: int32\n",
      "Females spent  42422577 more than males\n"
     ]
    }
   ],
   "source": [
    "# Answer 2\n",
    "Gender_vs_spent =  diwali_df.groupby(['Gender'])['Amount'].sum().sort_values(ascending= False)\n",
    "print(Gender_vs_spent)\n",
    "print(\"Females spent \",Gender_vs_spent['F'] - Gender_vs_spent['M'], \"more than males\")\n"
   ]
  },
  {
   "cell_type": "code",
   "execution_count": 389,
   "metadata": {},
   "outputs": [
    {
     "name": "stdout",
     "output_type": "stream",
     "text": [
      "  Age Group    Amount\n",
      "2     26-35  42613442\n",
      "3     36-45  22144994\n",
      "1     18-25  17240732\n",
      "4     46-50   9207844\n",
      "5     51-55   8261477\n",
      "6       55+   4080987\n",
      "0      0-17   2699653\n"
     ]
    },
    {
     "data": {
      "text/plain": [
       "<Axes: xlabel='Age Group', ylabel='Amount'>"
      ]
     },
     "execution_count": 389,
     "metadata": {},
     "output_type": "execute_result"
    },
    {
     "data": {
      "image/png": "[encoded data removed]",
      "text/plain": [
       "<Figure size 640x480 with 1 Axes>"
      ]
     },
     "metadata": {},
     "output_type": "display_data"
    }
   ],
   "source": [
    "# Answer 3\n",
    "Age_vs_spent = diwali_df.groupby(['Age Group'], as_index= False)['Amount'].sum().sort_values(by='Amount',ascending= False)\n",
    "print(Age_vs_spent)\n",
    "sns.barplot(data= Age_vs_spent,x='Age Group',y='Amount')"
   ]
  },
  {
   "cell_type": "code",
   "execution_count": 390,
   "metadata": {},
   "outputs": [
    {
     "name": "stdout",
     "output_type": "stream",
     "text": [
      "Age Group\n",
      "0-17                   Food\n",
      "18-25                  Food\n",
      "26-35    Clothing & Apparel\n",
      "36-45    Clothing & Apparel\n",
      "46-50    Clothing & Apparel\n",
      "51-55    Clothing & Apparel\n",
      "55+      Clothing & Apparel\n",
      "dtype: object\n"
     ]
    }
   ],
   "source": [
    "#Answer 4\n",
    "Age_Vs_Product = diwali_df[['Product_Category' , 'Age Group']]\n",
    "Age_Vs_Product_dummies = pd.get_dummies(Age_Vs_Product['Product_Category'])\n",
    "Age_Vs_Product_dummies = Age_Vs_Product_dummies.join(Age_Vs_Product['Age Group'])\n",
    "df = Age_Vs_Product_dummies.groupby(['Age Group'] ,as_index= False).sum().sort_values(by = 'Age Group')\n",
    "df.set_index('Age Group', inplace=True)\n",
    "max_counts = df.idxmax(axis=1)\n",
    "print(max_counts)"
   ]
  },
  {
   "cell_type": "code",
   "execution_count": 391,
   "metadata": {},
   "outputs": [
    {
     "data": {
      "text/html": [
       "<div>\n",
       "<style scoped>\n",
       "    .dataframe tbody tr th:only-of-type {\n",
       "        vertical-align: middle;\n",
       "    }\n",
       "\n",
       "    .dataframe tbody tr th {\n",
       "        vertical-align: top;\n",
       "    }\n",
       "\n",
       "    .dataframe thead th {\n",
       "        text-align: right;\n",
       "    }\n",
       "</style>\n",
       "<table border=\"1\" class=\"dataframe\">\n",
       "  <thead>\n",
       "    <tr style=\"text-align: right;\">\n",
       "      <th></th>\n",
       "      <th>Auto</th>\n",
       "      <th>Beauty</th>\n",
       "      <th>Books</th>\n",
       "      <th>Clothing &amp; Apparel</th>\n",
       "      <th>Decor</th>\n",
       "      <th>Electronics &amp; Gadgets</th>\n",
       "      <th>Food</th>\n",
       "      <th>Footwear &amp; Shoes</th>\n",
       "      <th>Furniture</th>\n",
       "      <th>Games &amp; Toys</th>\n",
       "      <th>Hand &amp; Power Tools</th>\n",
       "      <th>Household items</th>\n",
       "      <th>Office</th>\n",
       "      <th>Pet Care</th>\n",
       "      <th>Sports Products</th>\n",
       "      <th>Stationery</th>\n",
       "      <th>Tupperware</th>\n",
       "      <th>Veterinary</th>\n",
       "    </tr>\n",
       "    <tr>\n",
       "      <th>Age Group</th>\n",
       "      <th></th>\n",
       "      <th></th>\n",
       "      <th></th>\n",
       "      <th></th>\n",
       "      <th></th>\n",
       "      <th></th>\n",
       "      <th></th>\n",
       "      <th></th>\n",
       "      <th></th>\n",
       "      <th></th>\n",
       "      <th></th>\n",
       "      <th></th>\n",
       "      <th></th>\n",
       "      <th></th>\n",
       "      <th></th>\n",
       "      <th></th>\n",
       "      <th></th>\n",
       "      <th></th>\n",
       "    </tr>\n",
       "  </thead>\n",
       "  <tbody>\n",
       "    <tr>\n",
       "      <th>0-17</th>\n",
       "      <td>3</td>\n",
       "      <td>9</td>\n",
       "      <td>1</td>\n",
       "      <td>72</td>\n",
       "      <td>1</td>\n",
       "      <td>61</td>\n",
       "      <td>83</td>\n",
       "      <td>6</td>\n",
       "      <td>13</td>\n",
       "      <td>10</td>\n",
       "      <td>0</td>\n",
       "      <td>14</td>\n",
       "      <td>5</td>\n",
       "      <td>3</td>\n",
       "      <td>10</td>\n",
       "      <td>4</td>\n",
       "      <td>0</td>\n",
       "      <td>1</td>\n",
       "    </tr>\n",
       "    <tr>\n",
       "      <th>18-25</th>\n",
       "      <td>17</td>\n",
       "      <td>77</td>\n",
       "      <td>20</td>\n",
       "      <td>469</td>\n",
       "      <td>19</td>\n",
       "      <td>343</td>\n",
       "      <td>478</td>\n",
       "      <td>45</td>\n",
       "      <td>68</td>\n",
       "      <td>51</td>\n",
       "      <td>6</td>\n",
       "      <td>115</td>\n",
       "      <td>24</td>\n",
       "      <td>34</td>\n",
       "      <td>66</td>\n",
       "      <td>17</td>\n",
       "      <td>17</td>\n",
       "      <td>13</td>\n",
       "    </tr>\n",
       "    <tr>\n",
       "      <th>26-35</th>\n",
       "      <td>43</td>\n",
       "      <td>164</td>\n",
       "      <td>41</td>\n",
       "      <td>1057</td>\n",
       "      <td>33</td>\n",
       "      <td>832</td>\n",
       "      <td>991</td>\n",
       "      <td>424</td>\n",
       "      <td>136</td>\n",
       "      <td>163</td>\n",
       "      <td>10</td>\n",
       "      <td>271</td>\n",
       "      <td>41</td>\n",
       "      <td>87</td>\n",
       "      <td>134</td>\n",
       "      <td>53</td>\n",
       "      <td>19</td>\n",
       "      <td>42</td>\n",
       "    </tr>\n",
       "    <tr>\n",
       "      <th>36-45</th>\n",
       "      <td>18</td>\n",
       "      <td>82</td>\n",
       "      <td>22</td>\n",
       "      <td>532</td>\n",
       "      <td>23</td>\n",
       "      <td>413</td>\n",
       "      <td>454</td>\n",
       "      <td>305</td>\n",
       "      <td>69</td>\n",
       "      <td>84</td>\n",
       "      <td>7</td>\n",
       "      <td>75</td>\n",
       "      <td>23</td>\n",
       "      <td>37</td>\n",
       "      <td>82</td>\n",
       "      <td>24</td>\n",
       "      <td>19</td>\n",
       "      <td>14</td>\n",
       "    </tr>\n",
       "    <tr>\n",
       "      <th>46-50</th>\n",
       "      <td>4</td>\n",
       "      <td>33</td>\n",
       "      <td>9</td>\n",
       "      <td>234</td>\n",
       "      <td>10</td>\n",
       "      <td>186</td>\n",
       "      <td>213</td>\n",
       "      <td>120</td>\n",
       "      <td>29</td>\n",
       "      <td>35</td>\n",
       "      <td>0</td>\n",
       "      <td>23</td>\n",
       "      <td>7</td>\n",
       "      <td>32</td>\n",
       "      <td>27</td>\n",
       "      <td>6</td>\n",
       "      <td>9</td>\n",
       "      <td>6</td>\n",
       "    </tr>\n",
       "    <tr>\n",
       "      <th>51-55</th>\n",
       "      <td>8</td>\n",
       "      <td>37</td>\n",
       "      <td>7</td>\n",
       "      <td>188</td>\n",
       "      <td>5</td>\n",
       "      <td>177</td>\n",
       "      <td>168</td>\n",
       "      <td>108</td>\n",
       "      <td>26</td>\n",
       "      <td>28</td>\n",
       "      <td>1</td>\n",
       "      <td>14</td>\n",
       "      <td>7</td>\n",
       "      <td>13</td>\n",
       "      <td>27</td>\n",
       "      <td>6</td>\n",
       "      <td>7</td>\n",
       "      <td>3</td>\n",
       "    </tr>\n",
       "    <tr>\n",
       "      <th>55+</th>\n",
       "      <td>4</td>\n",
       "      <td>20</td>\n",
       "      <td>3</td>\n",
       "      <td>103</td>\n",
       "      <td>5</td>\n",
       "      <td>75</td>\n",
       "      <td>103</td>\n",
       "      <td>51</td>\n",
       "      <td>11</td>\n",
       "      <td>15</td>\n",
       "      <td>2</td>\n",
       "      <td>8</td>\n",
       "      <td>6</td>\n",
       "      <td>6</td>\n",
       "      <td>10</td>\n",
       "      <td>2</td>\n",
       "      <td>1</td>\n",
       "      <td>2</td>\n",
       "    </tr>\n",
       "  </tbody>\n",
       "</table>\n",
       "</div>"
      ],
      "text/plain": [
       "           Auto  Beauty  Books  Clothing & Apparel  Decor  \\\n",
       "Age Group                                                   \n",
       "0-17          3       9      1                  72      1   \n",
       "18-25        17      77     20                 469     19   \n",
       "26-35        43     164     41                1057     33   \n",
       "36-45        18      82     22                 532     23   \n",
       "46-50         4      33      9                 234     10   \n",
       "51-55         8      37      7                 188      5   \n",
       "55+           4      20      3                 103      5   \n",
       "\n",
       "           Electronics & Gadgets  Food  Footwear & Shoes  Furniture  \\\n",
       "Age Group                                                             \n",
       "0-17                          61    83                 6         13   \n",
       "18-25                        343   478                45         68   \n",
       "26-35                        832   991               424        136   \n",
       "36-45                        413   454               305         69   \n",
       "46-50                        186   213               120         29   \n",
       "51-55                        177   168               108         26   \n",
       "55+                           75   103                51         11   \n",
       "\n",
       "           Games & Toys  Hand & Power Tools  Household items  Office  \\\n",
       "Age Group                                                              \n",
       "0-17                 10                   0               14       5   \n",
       "18-25                51                   6              115      24   \n",
       "26-35               163                  10              271      41   \n",
       "36-45                84                   7               75      23   \n",
       "46-50                35                   0               23       7   \n",
       "51-55                28                   1               14       7   \n",
       "55+                  15                   2                8       6   \n",
       "\n",
       "           Pet Care  Sports Products  Stationery  Tupperware  Veterinary  \n",
       "Age Group                                                                 \n",
       "0-17              3               10           4           0           1  \n",
       "18-25            34               66          17          17          13  \n",
       "26-35            87              134          53          19          42  \n",
       "36-45            37               82          24          19          14  \n",
       "46-50            32               27           6           9           6  \n",
       "51-55            13               27           6           7           3  \n",
       "55+               6               10           2           1           2  "
      ]
     },
     "execution_count": 391,
     "metadata": {},
     "output_type": "execute_result"
    }
   ],
   "source": [
    "df"
   ]
  },
  {
   "cell_type": "code",
   "execution_count": 392,
   "metadata": {},
   "outputs": [
    {
     "name": "stdout",
     "output_type": "stream",
     "text": [
      "   Married    Amount\n",
      "0        0  62125384\n",
      "1        1  44123745\n",
      "Married people contribute to :  41.52857102480341\n",
      "Married people contribute to :  58.47142897519658\n"
     ]
    },
    {
     "data": {
      "image/png": "[encoded data removed]",
      "text/plain": [
       "<Figure size 640x480 with 1 Axes>"
      ]
     },
     "metadata": {},
     "output_type": "display_data"
    }
   ],
   "source": [
    "# Answer 5\n",
    "married_sales = diwali_df.groupby(['Married'], as_index= False)['Amount'].sum().sort_values(by='Amount',ascending= False)\n",
    "print(married_sales)\n",
    "totalsales = married_sales['Amount'].sum()\n",
    "totalsales_non = married_sales['Amount'][0].sum()\n",
    "totalsales_mar = married_sales['Amount'][1].sum()\n",
    "print(\"Married people contribute to : \",(totalsales_mar/ totalsales)*100 )\n",
    "print(\"Married people contribute to : \",(totalsales_non/ totalsales)*100 )\n",
    "ax = sns.barplot(data= married_sales , x= 'Married', y = 'Amount')\n",
    "for bar in ax.containers:\n",
    "    ax.bar_label(bar)"
   ]
  },
  {
   "cell_type": "code",
   "execution_count": 393,
   "metadata": {},
   "outputs": [
    {
     "name": "stdout",
     "output_type": "stream",
     "text": [
      "               State    Amount\n",
      "14     Uttar Pradesh  19374968\n",
      "10       Maharashtra  14427543\n",
      "7          Karnataka  13523540\n",
      "2              Delhi  11603818\n",
      "9     Madhya Pradesh   8101142\n",
      "0     Andhra Pradesh   8037146\n",
      "5   Himachal Pradesh   4963368\n",
      "4            Haryana   4220175\n",
      "1              Bihar   4022757\n",
      "3            Gujarat   3946082\n",
      "8             Kerala   3894491\n",
      "6          Jharkhand   3026456\n",
      "15       Uttarakhand   2520944\n",
      "12         Rajasthan   1909409\n",
      "11            Punjab   1525800\n",
      "13         Telangana   1151490\n"
     ]
    },
    {
     "data": {
      "image/png": "[encoded data removed]",
      "text/plain": [
       "<Figure size 640x480 with 1 Axes>"
      ]
     },
     "metadata": {},
     "output_type": "display_data"
    }
   ],
   "source": [
    "# Answer 6\n",
    "state_sales =  diwali_df.groupby(['State'], as_index= False)['Amount'].sum().sort_values(by='Amount',ascending= False)\n",
    "print(state_sales)\n",
    "ax = sns.barplot(data = state_sales , x= 'State' , y='Amount')\n",
    "plt.xticks(rotation = 90)\n",
    "plt.show()\n"
   ]
  },
  {
   "cell_type": "code",
   "execution_count": 394,
   "metadata": {},
   "outputs": [
    {
     "name": "stdout",
     "output_type": "stream",
     "text": [
      "         Occupation    Amount\n",
      "10        IT Sector  14755079\n",
      "8        Healthcare  13034586\n",
      "2          Aviation  12602298\n",
      "3           Banking  10770610\n",
      "7              Govt   8517212\n",
      "9       Hospitality   6376405\n",
      "12            Media   6295832\n",
      "1        Automobile   5368596\n",
      "4          Chemical   5297436\n",
      "11           Lawyer   4981665\n",
      "13           Retail   4783170\n",
      "6   Food Processing   4070670\n",
      "5      Construction   3597511\n",
      "14          Textile   3204972\n",
      "0       Agriculture   2593087\n"
     ]
    },
    {
     "data": {
      "image/png": "[encoded data removed]",
      "text/plain": [
       "<Figure size 640x480 with 1 Axes>"
      ]
     },
     "metadata": {},
     "output_type": "display_data"
    }
   ],
   "source": [
    "# Answer 7\n",
    "occ_sales =  diwali_df.groupby(['Occupation'], as_index= False)['Amount'].sum().sort_values(by='Amount',ascending= False)\n",
    "print(occ_sales)\n",
    "ax = sns.barplot(data = occ_sales , x= 'Occupation' , y='Amount')\n",
    "plt.xticks(rotation = 90)\n",
    "plt.show()"
   ]
  },
  {
   "cell_type": "code",
   "execution_count": 395,
   "metadata": {},
   "outputs": [
    {
     "name": "stdout",
     "output_type": "stream",
     "text": [
      "Married\n",
      "0    Clothing & Apparel\n",
      "1    Clothing & Apparel\n",
      "dtype: object\n"
     ]
    }
   ],
   "source": [
    "# Answer 8\n",
    "Married_top_product = diwali_df[['Product_Category' , 'Married']]\n",
    "Married_top_product_dummies = pd.get_dummies(Married_top_product['Product_Category'])\n",
    "Married_top_product_dummies = Married_top_product_dummies.join(Married_top_product['Married'])\n",
    "df2 = Married_top_product_dummies.groupby(['Married'] ,as_index= False).sum().sort_values(by = 'Married')\n",
    "df2.set_index('Married', inplace=True)\n",
    "max_count = df2.idxmax(axis=1)\n",
    "print(max_count)"
   ]
  },
  {
   "cell_type": "code",
   "execution_count": 396,
   "metadata": {},
   "outputs": [
    {
     "data": {
      "text/html": [
       "<div>\n",
       "<style scoped>\n",
       "    .dataframe tbody tr th:only-of-type {\n",
       "        vertical-align: middle;\n",
       "    }\n",
       "\n",
       "    .dataframe tbody tr th {\n",
       "        vertical-align: top;\n",
       "    }\n",
       "\n",
       "    .dataframe thead th {\n",
       "        text-align: right;\n",
       "    }\n",
       "</style>\n",
       "<table border=\"1\" class=\"dataframe\">\n",
       "  <thead>\n",
       "    <tr style=\"text-align: right;\">\n",
       "      <th>Married</th>\n",
       "      <th>0</th>\n",
       "      <th>1</th>\n",
       "    </tr>\n",
       "  </thead>\n",
       "  <tbody>\n",
       "    <tr>\n",
       "      <th>Clothing &amp; Apparel</th>\n",
       "      <td>1535</td>\n",
       "      <td>1120</td>\n",
       "    </tr>\n",
       "    <tr>\n",
       "      <th>Food</th>\n",
       "      <td>1500</td>\n",
       "      <td>990</td>\n",
       "    </tr>\n",
       "    <tr>\n",
       "      <th>Electronics &amp; Gadgets</th>\n",
       "      <td>1174</td>\n",
       "      <td>913</td>\n",
       "    </tr>\n",
       "    <tr>\n",
       "      <th>Footwear &amp; Shoes</th>\n",
       "      <td>613</td>\n",
       "      <td>446</td>\n",
       "    </tr>\n",
       "    <tr>\n",
       "      <th>Household items</th>\n",
       "      <td>295</td>\n",
       "      <td>225</td>\n",
       "    </tr>\n",
       "    <tr>\n",
       "      <th>Beauty</th>\n",
       "      <td>242</td>\n",
       "      <td>180</td>\n",
       "    </tr>\n",
       "    <tr>\n",
       "      <th>Sports Products</th>\n",
       "      <td>234</td>\n",
       "      <td>122</td>\n",
       "    </tr>\n",
       "    <tr>\n",
       "      <th>Games &amp; Toys</th>\n",
       "      <td>227</td>\n",
       "      <td>159</td>\n",
       "    </tr>\n",
       "    <tr>\n",
       "      <th>Furniture</th>\n",
       "      <td>206</td>\n",
       "      <td>146</td>\n",
       "    </tr>\n",
       "    <tr>\n",
       "      <th>Pet Care</th>\n",
       "      <td>121</td>\n",
       "      <td>91</td>\n",
       "    </tr>\n",
       "    <tr>\n",
       "      <th>Stationery</th>\n",
       "      <td>65</td>\n",
       "      <td>47</td>\n",
       "    </tr>\n",
       "    <tr>\n",
       "      <th>Office</th>\n",
       "      <td>63</td>\n",
       "      <td>50</td>\n",
       "    </tr>\n",
       "    <tr>\n",
       "      <th>Auto</th>\n",
       "      <td>54</td>\n",
       "      <td>43</td>\n",
       "    </tr>\n",
       "    <tr>\n",
       "      <th>Books</th>\n",
       "      <td>49</td>\n",
       "      <td>54</td>\n",
       "    </tr>\n",
       "    <tr>\n",
       "      <th>Decor</th>\n",
       "      <td>49</td>\n",
       "      <td>47</td>\n",
       "    </tr>\n",
       "    <tr>\n",
       "      <th>Tupperware</th>\n",
       "      <td>45</td>\n",
       "      <td>27</td>\n",
       "    </tr>\n",
       "    <tr>\n",
       "      <th>Veterinary</th>\n",
       "      <td>34</td>\n",
       "      <td>47</td>\n",
       "    </tr>\n",
       "    <tr>\n",
       "      <th>Hand &amp; Power Tools</th>\n",
       "      <td>12</td>\n",
       "      <td>14</td>\n",
       "    </tr>\n",
       "  </tbody>\n",
       "</table>\n",
       "</div>"
      ],
      "text/plain": [
       "Married                   0     1\n",
       "Clothing & Apparel     1535  1120\n",
       "Food                   1500   990\n",
       "Electronics & Gadgets  1174   913\n",
       "Footwear & Shoes        613   446\n",
       "Household items         295   225\n",
       "Beauty                  242   180\n",
       "Sports Products         234   122\n",
       "Games & Toys            227   159\n",
       "Furniture               206   146\n",
       "Pet Care                121    91\n",
       "Stationery               65    47\n",
       "Office                   63    50\n",
       "Auto                     54    43\n",
       "Books                    49    54\n",
       "Decor                    49    47\n",
       "Tupperware               45    27\n",
       "Veterinary               34    47\n",
       "Hand & Power Tools       12    14"
      ]
     },
     "execution_count": 396,
     "metadata": {},
     "output_type": "execute_result"
    }
   ],
   "source": [
    "df2.transpose().sort_values(by=[0,1], ascending= False)"
   ]
  },
  {
   "cell_type": "code",
   "execution_count": 397,
   "metadata": {},
   "outputs": [
    {
     "name": "stdout",
     "output_type": "stream",
     "text": [
      "         Product_Category    Amount\n",
      "6                    Food  33933883\n",
      "3      Clothing & Apparel  16495019\n",
      "5   Electronics & Gadgets  15643846\n",
      "7        Footwear & Shoes  15575209\n",
      "8               Furniture   5440051\n",
      "9            Games & Toys   4331694\n",
      "14        Sports Products   3635933\n",
      "1                  Beauty   1959484\n",
      "0                    Auto   1958609\n",
      "15             Stationery   1676051\n",
      "11        Household items   1569337\n",
      "16             Tupperware   1155642\n",
      "2                   Books   1061478\n",
      "4                   Decor    730360\n",
      "13               Pet Care    482277\n",
      "10     Hand & Power Tools    405618\n",
      "17             Veterinary    112702\n",
      "12                 Office     81936\n"
     ]
    },
    {
     "data": {
      "image/png": "[encoded data removed]",
      "text/plain": [
       "<Figure size 640x480 with 1 Axes>"
      ]
     },
     "metadata": {},
     "output_type": "display_data"
    }
   ],
   "source": [
    "product_sales =  diwali_df.groupby(['Product_Category'], as_index= False)['Amount'].sum().sort_values(by='Amount',ascending= False)\n",
    "print(product_sales)\n",
    "ax = sns.barplot(data = product_sales , x= 'Product_Category' , y='Amount')\n",
    "plt.xticks(rotation = 90)\n",
    "plt.show()"
   ]
  },
  {
   "cell_type": "code",
   "execution_count": 398,
   "metadata": {},
   "outputs": [
    {
     "name": "stdout",
     "output_type": "stream",
     "text": [
      "     Product_ID  Orders\n",
      "1679  P00265242     127\n",
      "644   P00110942     116\n",
      "1504  P00237542      91\n",
      "1146  P00184942      82\n",
      "679   P00114942      79\n",
      "...         ...     ...\n",
      "427   P00066142       1\n",
      "1333  P00213442       1\n",
      "418   P00064342       1\n",
      "416   P00064142       1\n",
      "875   P00142742       1\n",
      "\n",
      "[2350 rows x 2 columns]\n"
     ]
    },
    {
     "data": {
      "image/png": "[encoded data removed]",
      "text/plain": [
       "<Figure size 640x480 with 1 Axes>"
      ]
     },
     "metadata": {},
     "output_type": "display_data"
    }
   ],
   "source": [
    "product_sales =  diwali_df.groupby(['Product_ID'], as_index= False)['Orders'].sum().sort_values(by='Orders',ascending= False)\n",
    "print(product_sales)\n",
    "ax = sns.barplot(data = product_sales[:10] , x= 'Product_ID' , y='Orders')\n",
    "plt.xticks(rotation = 90)\n",
    "plt.show()"
   ]
  },
  {
   "cell_type": "code",
   "execution_count": 399,
   "metadata": {},
   "outputs": [
    {
     "name": "stderr",
     "output_type": "stream",
     "text": [
      "C:\\Users\\shiva\\AppData\\Local\\Temp\\ipykernel_3772\\416917319.py:3: FutureWarning: The provided callable <built-in function max> is currently using SeriesGroupBy.max. In a future version of pandas, the provided callable will be used directly. To keep current behavior pass the string \"max\" instead.\n",
      "  res = state_category_counts_me.groupby(['State'])['size'].transform(max) == state_category_counts_me['size']\n"
     ]
    },
    {
     "data": {
      "text/html": [
       "<div>\n",
       "<style scoped>\n",
       "    .dataframe tbody tr th:only-of-type {\n",
       "        vertical-align: middle;\n",
       "    }\n",
       "\n",
       "    .dataframe tbody tr th {\n",
       "        vertical-align: top;\n",
       "    }\n",
       "\n",
       "    .dataframe thead th {\n",
       "        text-align: right;\n",
       "    }\n",
       "</style>\n",
       "<table border=\"1\" class=\"dataframe\">\n",
       "  <thead>\n",
       "    <tr style=\"text-align: right;\">\n",
       "      <th></th>\n",
       "      <th>State</th>\n",
       "      <th>Product_Category</th>\n",
       "      <th>size</th>\n",
       "    </tr>\n",
       "  </thead>\n",
       "  <tbody>\n",
       "    <tr>\n",
       "      <th>4</th>\n",
       "      <td>Andhra Pradesh</td>\n",
       "      <td>Electronics &amp; Gadgets</td>\n",
       "      <td>277</td>\n",
       "    </tr>\n",
       "    <tr>\n",
       "      <th>19</th>\n",
       "      <td>Bihar</td>\n",
       "      <td>Clothing &amp; Apparel</td>\n",
       "      <td>140</td>\n",
       "    </tr>\n",
       "    <tr>\n",
       "      <th>37</th>\n",
       "      <td>Delhi</td>\n",
       "      <td>Footwear &amp; Shoes</td>\n",
       "      <td>335</td>\n",
       "    </tr>\n",
       "    <tr>\n",
       "      <th>51</th>\n",
       "      <td>Gujarat</td>\n",
       "      <td>Clothing &amp; Apparel</td>\n",
       "      <td>113</td>\n",
       "    </tr>\n",
       "    <tr>\n",
       "      <th>65</th>\n",
       "      <td>Haryana</td>\n",
       "      <td>Clothing &amp; Apparel</td>\n",
       "      <td>123</td>\n",
       "    </tr>\n",
       "    <tr>\n",
       "      <th>81</th>\n",
       "      <td>Himachal Pradesh</td>\n",
       "      <td>Clothing &amp; Apparel</td>\n",
       "      <td>240</td>\n",
       "    </tr>\n",
       "    <tr>\n",
       "      <th>97</th>\n",
       "      <td>Jharkhand</td>\n",
       "      <td>Clothing &amp; Apparel</td>\n",
       "      <td>148</td>\n",
       "    </tr>\n",
       "    <tr>\n",
       "      <th>114</th>\n",
       "      <td>Karnataka</td>\n",
       "      <td>Footwear &amp; Shoes</td>\n",
       "      <td>338</td>\n",
       "    </tr>\n",
       "    <tr>\n",
       "      <th>126</th>\n",
       "      <td>Kerala</td>\n",
       "      <td>Clothing &amp; Apparel</td>\n",
       "      <td>182</td>\n",
       "    </tr>\n",
       "    <tr>\n",
       "      <th>143</th>\n",
       "      <td>Madhya Pradesh</td>\n",
       "      <td>Food</td>\n",
       "      <td>209</td>\n",
       "    </tr>\n",
       "    <tr>\n",
       "      <th>161</th>\n",
       "      <td>Maharashtra</td>\n",
       "      <td>Food</td>\n",
       "      <td>480</td>\n",
       "    </tr>\n",
       "    <tr>\n",
       "      <th>177</th>\n",
       "      <td>Punjab</td>\n",
       "      <td>Electronics &amp; Gadgets</td>\n",
       "      <td>126</td>\n",
       "    </tr>\n",
       "    <tr>\n",
       "      <th>189</th>\n",
       "      <td>Rajasthan</td>\n",
       "      <td>Electronics &amp; Gadgets</td>\n",
       "      <td>134</td>\n",
       "    </tr>\n",
       "    <tr>\n",
       "      <th>199</th>\n",
       "      <td>Telangana</td>\n",
       "      <td>Electronics &amp; Gadgets</td>\n",
       "      <td>59</td>\n",
       "    </tr>\n",
       "    <tr>\n",
       "      <th>214</th>\n",
       "      <td>Uttar Pradesh</td>\n",
       "      <td>Food</td>\n",
       "      <td>567</td>\n",
       "    </tr>\n",
       "    <tr>\n",
       "      <th>229</th>\n",
       "      <td>Uttarakhand</td>\n",
       "      <td>Clothing &amp; Apparel</td>\n",
       "      <td>157</td>\n",
       "    </tr>\n",
       "  </tbody>\n",
       "</table>\n",
       "</div>"
      ],
      "text/plain": [
       "                State       Product_Category  size\n",
       "4      Andhra Pradesh  Electronics & Gadgets   277\n",
       "19              Bihar     Clothing & Apparel   140\n",
       "37              Delhi       Footwear & Shoes   335\n",
       "51            Gujarat     Clothing & Apparel   113\n",
       "65            Haryana     Clothing & Apparel   123\n",
       "81   Himachal Pradesh     Clothing & Apparel   240\n",
       "97          Jharkhand     Clothing & Apparel   148\n",
       "114         Karnataka       Footwear & Shoes   338\n",
       "126            Kerala     Clothing & Apparel   182\n",
       "143    Madhya Pradesh                   Food   209\n",
       "161       Maharashtra                   Food   480\n",
       "177            Punjab  Electronics & Gadgets   126\n",
       "189         Rajasthan  Electronics & Gadgets   134\n",
       "199         Telangana  Electronics & Gadgets    59\n",
       "214     Uttar Pradesh                   Food   567\n",
       "229       Uttarakhand     Clothing & Apparel   157"
      ]
     },
     "execution_count": 399,
     "metadata": {},
     "output_type": "execute_result"
    }
   ],
   "source": [
    "# Answer 9\n",
    "state_category_counts_me = diwali_df.groupby(['State', 'Product_Category'], as_index= False).size()\n",
    "res = state_category_counts_me.groupby(['State'])['size'].transform(max) == state_category_counts_me['size']\n",
    "state_category_counts_me[res]"
   ]
  }
 ],
 "metadata": {
  "kernelspec": {
   "display_name": ".venv",
   "language": "python",
   "name": "python3"
  },
  "language_info": {
   "codemirror_mode": {
    "name": "ipython",
    "version": 3
   },
   "file_extension": ".py",
   "mimetype": "text/x-python",
   "name": "python",
   "nbconvert_exporter": "python",
   "pygments_lexer": "ipython3",
   "version": "3.9.13"
  },
  "orig_nbformat": 4
 },
 "nbformat": 4,
 "nbformat_minor": 2
}
